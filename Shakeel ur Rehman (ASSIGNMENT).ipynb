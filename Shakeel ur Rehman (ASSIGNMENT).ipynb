{
 "cells": [
  {
   "cell_type": "code",
   "execution_count": 193,
   "metadata": {},
   "outputs": [],
   "source": [
    "import this"
   ]
  },
  {
   "cell_type": "code",
   "execution_count": 194,
   "metadata": {},
   "outputs": [
    {
     "data": {
      "text/plain": [
       "14"
      ]
     },
     "execution_count": 194,
     "metadata": {},
     "output_type": "execute_result"
    }
   ],
   "source": [
    "5 + 9 # Operation\n",
    "# Operators\n",
    "    # +, - , * , / , %, **\n",
    "    # = , +=, -=, *=, /=, **=\n",
    "    # == , <, >, >=, <=, !=\n",
    "    # and (&) or (|)\n",
    "    \n",
    "# 5, 9 # Oprands"
   ]
  },
  {
   "cell_type": "code",
   "execution_count": 195,
   "metadata": {},
   "outputs": [
    {
     "data": {
      "text/plain": [
       "41.0"
      ]
     },
     "execution_count": 195,
     "metadata": {},
     "output_type": "execute_result"
    }
   ],
   "source": [
    "9 + 8 * 2 / 2**2 + (7 -3) * 7\n",
    "#PEMDAS\n",
    "\n",
    "#9 + 8 * 2 / 2**2 + 4 * 7\n",
    "#9 + 8 * 2 / 4 + 4 * 7\n",
    "#9 + 8 * 2 / 4 + 4 * 7\n",
    "#9 + 16 / 4 + 28\n",
    "#9 + 4 + 28\n",
    "#41"
   ]
  },
  {
   "cell_type": "code",
   "execution_count": 196,
   "metadata": {},
   "outputs": [
    {
     "data": {
      "text/plain": [
       "2419.0"
      ]
     },
     "execution_count": 196,
     "metadata": {},
     "output_type": "execute_result"
    }
   ],
   "source": [
    "5 + 8 - 7**2 * 6 + 180 / 2 * (5 * 6)\n",
    "#PEMDAS\n",
    "\n",
    "# 5+8-7**2*6+180/2*(30)\n",
    "# 5+8-7**2*6+180/2*30\n",
    "# 5+8-49*6+90*30\n",
    "# 5+8-49*6+2700\n",
    "# 5+8-294+2700\n",
    "# 5+8-294+2700\n",
    "# 13+2700-294\n",
    "# 2713-294\n",
    "#2419\n",
    "\n"
   ]
  },
  {
   "cell_type": "code",
   "execution_count": 197,
   "metadata": {},
   "outputs": [
    {
     "name": "stdout",
     "output_type": "stream",
     "text": [
      "3\n",
      "3\n",
      "140715896640384\n",
      "140715896640384\n"
     ]
    }
   ],
   "source": [
    "#copy types\n",
    "# Shallow Copy\n",
    "# Deep Copy\n",
    "\n",
    "a = 3\n",
    "b = 3\n",
    "\n",
    "print(a)\n",
    "print(b)\n",
    "\n",
    "print(id(a))\n",
    "print(id(b))"
   ]
  },
  {
   "cell_type": "code",
   "execution_count": 198,
   "metadata": {},
   "outputs": [
    {
     "name": "stdout",
     "output_type": "stream",
     "text": [
      "['p', 'a', 'k', 'i', 's', 't', 'a', 'n']\n",
      "['p', 'a', 'k', 'i', 's', 't', 'a', 'n']\n",
      "87632712\n",
      "89012296\n"
     ]
    }
   ],
   "source": [
    "a = list(\"pakistan\")\n",
    "b = a.copy()\n",
    "\n",
    "print(a)\n",
    "print(b)\n",
    "\n",
    "print(id(a))\n",
    "print(id(b))"
   ]
  },
  {
   "cell_type": "code",
   "execution_count": 199,
   "metadata": {},
   "outputs": [
    {
     "name": "stdout",
     "output_type": "stream",
     "text": [
      "20\n",
      "<class 'int'>\n"
     ]
    }
   ],
   "source": [
    "a = 20\n",
    "print(a)\n",
    "print(type(a))"
   ]
  },
  {
   "cell_type": "code",
   "execution_count": 200,
   "metadata": {},
   "outputs": [
    {
     "name": "stdout",
     "output_type": "stream",
     "text": [
      "2\n",
      "<class 'int'>\n"
     ]
    }
   ],
   "source": [
    "a = 10 // 4 # floor Division\n",
    "print(a)\n",
    "print(type(a))"
   ]
  },
  {
   "cell_type": "code",
   "execution_count": 201,
   "metadata": {},
   "outputs": [
    {
     "name": "stdout",
     "output_type": "stream",
     "text": [
      "20.8\n",
      "<class 'float'>\n"
     ]
    }
   ],
   "source": [
    "a = 20.8\n",
    "print(a)\n",
    "print(type(a))"
   ]
  },
  {
   "cell_type": "code",
   "execution_count": 202,
   "metadata": {},
   "outputs": [
    {
     "name": "stdout",
     "output_type": "stream",
     "text": [
      "1.0\n",
      "<class 'float'>\n"
     ]
    }
   ],
   "source": [
    "a = 8 / 8\n",
    "print(a)\n",
    "print(type(a))"
   ]
  },
  {
   "cell_type": "code",
   "execution_count": 203,
   "metadata": {},
   "outputs": [
    {
     "name": "stdout",
     "output_type": "stream",
     "text": [
      "True\n",
      "<class 'bool'>\n"
     ]
    }
   ],
   "source": [
    "a = True\n",
    "print(a)\n",
    "print(type(a))"
   ]
  },
  {
   "cell_type": "code",
   "execution_count": 204,
   "metadata": {},
   "outputs": [
    {
     "name": "stdout",
     "output_type": "stream",
     "text": [
      "False\n",
      "<class 'bool'>\n"
     ]
    }
   ],
   "source": [
    "a = False\n",
    "print(a)\n",
    "print(type(a))"
   ]
  },
  {
   "cell_type": "code",
   "execution_count": 205,
   "metadata": {},
   "outputs": [
    {
     "name": "stdout",
     "output_type": "stream",
     "text": [
      "20\n",
      "<class 'str'>\n"
     ]
    }
   ],
   "source": [
    "a = \"20\"\n",
    "print(a)\n",
    "print(type(a))"
   ]
  },
  {
   "cell_type": "code",
   "execution_count": 206,
   "metadata": {},
   "outputs": [
    {
     "name": "stdout",
     "output_type": "stream",
     "text": [
      "1\n",
      "<class 'str'>\n"
     ]
    }
   ],
   "source": [
    "a = '1'\n",
    "print(a)\n",
    "print(type(a))"
   ]
  },
  {
   "cell_type": "code",
   "execution_count": 207,
   "metadata": {},
   "outputs": [
    {
     "name": "stdout",
     "output_type": "stream",
     "text": [
      "20.7\n",
      "<class 'str'>\n"
     ]
    }
   ],
   "source": [
    "a = \"\"\"20.7\"\"\"\n",
    "print(a)\n",
    "print(type(a))"
   ]
  },
  {
   "cell_type": "code",
   "execution_count": 208,
   "metadata": {},
   "outputs": [
    {
     "name": "stdout",
     "output_type": "stream",
     "text": [
      "78\n",
      "<class 'str'>\n"
     ]
    }
   ],
   "source": [
    "a = '''78'''\n",
    "print(a)\n",
    "print(type(a))"
   ]
  },
  {
   "cell_type": "code",
   "execution_count": 209,
   "metadata": {},
   "outputs": [
    {
     "name": "stdout",
     "output_type": "stream",
     "text": [
      "['Ali', 'Hamza', 'Junaid', 200, True]\n",
      "True\n",
      "<class 'list'>\n"
     ]
    }
   ],
   "source": [
    "#Index    0       1       2      3     4\n",
    "names = [\"Ali\",\"Hamza\",\"Junaid\",200, True] #List[Element,Element]\n",
    "#Index     -5    -4      -3      -2   -1\n",
    "\n",
    "print(names)\n",
    "print(names[-1])   #list[indexNumber]\n",
    "print(type(names))"
   ]
  },
  {
   "cell_type": "code",
   "execution_count": 210,
   "metadata": {},
   "outputs": [
    {
     "name": "stdout",
     "output_type": "stream",
     "text": [
      "('Ali', 'Hamza', 'Junaid', 200, True)\n",
      "True\n",
      "<class 'tuple'>\n"
     ]
    }
   ],
   "source": [
    "#Index    0       1       2      3     4\n",
    "names = (\"Ali\",\"Hamza\",\"Junaid\",200, True) #tuple[Element,Element]\n",
    "#Index     -5    -4      -3      -2   -1\n",
    "\n",
    "print(names)\n",
    "print(names[-1])   #list[indexNumber]\n",
    "print(type(names))"
   ]
  },
  {
   "cell_type": "code",
   "execution_count": 211,
   "metadata": {},
   "outputs": [
    {
     "data": {
      "text/plain": [
       "{'Ali', 'Hamza', 'Rashid'}"
      ]
     },
     "execution_count": 211,
     "metadata": {},
     "output_type": "execute_result"
    }
   ],
   "source": [
    "names = {\"Ali\",\"Hamza\",\"Ali\",\"Hamza\",\"Rashid\"} #set\n",
    "names\n"
   ]
  },
  {
   "cell_type": "code",
   "execution_count": 212,
   "metadata": {},
   "outputs": [
    {
     "data": {
      "text/plain": [
       "'Ali'"
      ]
     },
     "execution_count": 212,
     "metadata": {},
     "output_type": "execute_result"
    }
   ],
   "source": [
    "# Type Casting\n",
    "names = {\"Ali\",\"Hamza\",\"Ali\",\"Hamza\",\"Rashid\"} #set\n",
    "names = list(names)\n",
    "names[0]"
   ]
  },
  {
   "cell_type": "code",
   "execution_count": 213,
   "metadata": {},
   "outputs": [
    {
     "name": "stdout",
     "output_type": "stream",
     "text": [
      "('Ali', 'Hamza', 'Junaid', 200, True)\n",
      "True\n",
      "<class 'tuple'>\n"
     ]
    }
   ],
   "source": [
    "#Index    0       1       2      3     4\n",
    "names = (\"Ali\",\"Hamza\",\"Junaid\",200, True) #tuple[Element,Element]\n",
    "#Index     -5    -4      -3      -2   -1\n",
    "\n",
    "print(names)\n",
    "print(names[-1])   #list[indexNumber]\n",
    "print(type(names))"
   ]
  },
  {
   "cell_type": "code",
   "execution_count": 214,
   "metadata": {},
   "outputs": [
    {
     "name": "stdout",
     "output_type": "stream",
     "text": [
      "Pakistan\n"
     ]
    }
   ],
   "source": [
    "# {\n",
    "# key0: value1,\n",
    "# key1: value1, \n",
    "# key2:value2\n",
    "# }\n",
    "\n",
    "# key hashable data type\n",
    "# value any data types\n",
    "\n",
    "\n",
    "data = {\n",
    "    \"name\":\"Muhammad Qasim\",\n",
    "    \"fname\":\"Muhammad Aslam\",\n",
    "    \"fee\":500,\n",
    "    \"education\":['Matric',\"Intermediate\",\"BSCS\",\"DSCS\"],\n",
    "    5: \"Pakistan\",\n",
    "    'a' : 2000\n",
    "}\n",
    "\n",
    "print(data[5])"
   ]
  },
  {
   "cell_type": "code",
   "execution_count": 215,
   "metadata": {},
   "outputs": [
    {
     "data": {
      "text/plain": [
       "28"
      ]
     },
     "execution_count": 215,
     "metadata": {},
     "output_type": "execute_result"
    }
   ],
   "source": [
    "a = 28.9\n",
    "int(a)"
   ]
  },
  {
   "cell_type": "markdown",
   "metadata": {},
   "source": [
    "# Slicing"
   ]
  },
  {
   "cell_type": "raw",
   "metadata": {},
   "source": [
    "#list[start:end:step]\n",
    "#tuple[start:end:step]\n",
    "#string[start:end:step]\n",
    "#start ->Included\n",
    "#end   ->Excluded\n",
    "#Step  ->Sequance"
   ]
  },
  {
   "cell_type": "code",
   "execution_count": 216,
   "metadata": {},
   "outputs": [
    {
     "name": "stdout",
     "output_type": "stream",
     "text": [
      "Pakistan zinda bad\n",
      "dab adniz natsikaP\n",
      "ak\n",
      "Pakistan bad\n"
     ]
    }
   ],
   "source": [
    "a = \"Pakistan zinda bad\"\n",
    "print(a[::])\n",
    "print(a[::-1])\n",
    "print(a[1:3:])\n",
    "print(a[0:9:] + a[-3:])"
   ]
  },
  {
   "cell_type": "markdown",
   "metadata": {},
   "source": [
    "# String Data types and Methods"
   ]
  },
  {
   "cell_type": "raw",
   "metadata": {},
   "source": [
    "help(str)\n",
    "str?\n",
    "str??\n",
    "?str\n",
    "??str"
   ]
  },
  {
   "cell_type": "code",
   "execution_count": 217,
   "metadata": {},
   "outputs": [
    {
     "data": {
      "text/plain": [
       "['__add__',\n",
       " '__class__',\n",
       " '__contains__',\n",
       " '__delattr__',\n",
       " '__dir__',\n",
       " '__doc__',\n",
       " '__eq__',\n",
       " '__format__',\n",
       " '__ge__',\n",
       " '__getattribute__',\n",
       " '__getitem__',\n",
       " '__getnewargs__',\n",
       " '__gt__',\n",
       " '__hash__',\n",
       " '__init__',\n",
       " '__init_subclass__',\n",
       " '__iter__',\n",
       " '__le__',\n",
       " '__len__',\n",
       " '__lt__',\n",
       " '__mod__',\n",
       " '__mul__',\n",
       " '__ne__',\n",
       " '__new__',\n",
       " '__reduce__',\n",
       " '__reduce_ex__',\n",
       " '__repr__',\n",
       " '__rmod__',\n",
       " '__rmul__',\n",
       " '__setattr__',\n",
       " '__sizeof__',\n",
       " '__str__',\n",
       " '__subclasshook__',\n",
       " 'capitalize',\n",
       " 'casefold',\n",
       " 'center',\n",
       " 'count',\n",
       " 'encode',\n",
       " 'endswith',\n",
       " 'expandtabs',\n",
       " 'find',\n",
       " 'format',\n",
       " 'format_map',\n",
       " 'index',\n",
       " 'isalnum',\n",
       " 'isalpha',\n",
       " 'isascii',\n",
       " 'isdecimal',\n",
       " 'isdigit',\n",
       " 'isidentifier',\n",
       " 'islower',\n",
       " 'isnumeric',\n",
       " 'isprintable',\n",
       " 'isspace',\n",
       " 'istitle',\n",
       " 'isupper',\n",
       " 'join',\n",
       " 'ljust',\n",
       " 'lower',\n",
       " 'lstrip',\n",
       " 'maketrans',\n",
       " 'partition',\n",
       " 'replace',\n",
       " 'rfind',\n",
       " 'rindex',\n",
       " 'rjust',\n",
       " 'rpartition',\n",
       " 'rsplit',\n",
       " 'rstrip',\n",
       " 'split',\n",
       " 'splitlines',\n",
       " 'startswith',\n",
       " 'strip',\n",
       " 'swapcase',\n",
       " 'title',\n",
       " 'translate',\n",
       " 'upper',\n",
       " 'zfill']"
      ]
     },
     "execution_count": 217,
     "metadata": {},
     "output_type": "execute_result"
    }
   ],
   "source": [
    "a = \"MUhammAd Qasim\"\n",
    "dir(a)"
   ]
  },
  {
   "cell_type": "code",
   "execution_count": 218,
   "metadata": {},
   "outputs": [
    {
     "name": "stdout",
     "output_type": "stream",
     "text": [
      "MUHAMMAD QASIM\n",
      "MUHAmmAD QaSIM\n"
     ]
    }
   ],
   "source": [
    "a = \"MUHAmmAD QaSIM\"\n",
    "print(a.upper()) # Inline Operation\n",
    "print(a)"
   ]
  },
  {
   "cell_type": "code",
   "execution_count": 219,
   "metadata": {},
   "outputs": [
    {
     "name": "stdout",
     "output_type": "stream",
     "text": [
      "MUHAMMAD QASIM\n"
     ]
    }
   ],
   "source": [
    "a = \"MUHAmmAD QaSIM\"\n",
    "a = a.upper() # In Memory Operation\n",
    "\n",
    "print(a)"
   ]
  },
  {
   "cell_type": "code",
   "execution_count": 220,
   "metadata": {},
   "outputs": [
    {
     "name": "stdout",
     "output_type": "stream",
     "text": [
      "Muhmmad Qasim\n",
      "MUHmMaD QaSIM\n"
     ]
    }
   ],
   "source": [
    "a = \"MUHmMaD QaSIM\"\n",
    "print(a.title())\n",
    "print(a)"
   ]
  },
  {
   "cell_type": "code",
   "execution_count": 221,
   "metadata": {},
   "outputs": [
    {
     "name": "stdout",
     "output_type": "stream",
     "text": [
      "Muhmmad qasim\n",
      "MUHmMaD QaSIM\n"
     ]
    }
   ],
   "source": [
    "a = \"MUHmMaD QaSIM\"\n",
    "print(a.capitalize())\n",
    "print(a)"
   ]
  },
  {
   "cell_type": "code",
   "execution_count": 222,
   "metadata": {},
   "outputs": [
    {
     "name": "stdout",
     "output_type": "stream",
     "text": [
      "muhmmad qasim\n",
      "MUHmMaD QaSIM\n"
     ]
    }
   ],
   "source": [
    "a = \"MUHmMaD QaSIM\"\n",
    "print(a.casefold())\n",
    "print(a)"
   ]
  },
  {
   "cell_type": "code",
   "execution_count": 223,
   "metadata": {},
   "outputs": [
    {
     "name": "stdout",
     "output_type": "stream",
     "text": [
      "MUHmMaD QaSIM\n",
      "MUHmMaD QaSIM\n"
     ]
    }
   ],
   "source": [
    "a = \"MUHmMaD QaSIM\"\n",
    "print(a.center(2))\n",
    "print(a)"
   ]
  },
  {
   "cell_type": "code",
   "execution_count": 224,
   "metadata": {},
   "outputs": [
    {
     "name": "stdout",
     "output_type": "stream",
     "text": [
      "1\n",
      "MUHmMaD QaSIM\n"
     ]
    }
   ],
   "source": [
    "a = \"MUHmMaD QaSIM\"\n",
    "print(a.count(a))\n",
    "print(a)"
   ]
  },
  {
   "cell_type": "code",
   "execution_count": 225,
   "metadata": {},
   "outputs": [
    {
     "name": "stdout",
     "output_type": "stream",
     "text": [
      "b'MUHmMaD QaSIM'\n",
      "MUHmMaD QaSIM\n"
     ]
    }
   ],
   "source": [
    "a = \"MUHmMaD QaSIM\"\n",
    "print(a.encode())\n",
    "print(a)"
   ]
  },
  {
   "cell_type": "code",
   "execution_count": 226,
   "metadata": {},
   "outputs": [
    {
     "name": "stdout",
     "output_type": "stream",
     "text": [
      "True\n",
      "MUHmMaD QaSIM\n"
     ]
    }
   ],
   "source": [
    "a = \"MUHmMaD QaSIM\"\n",
    "print(a.endswith(a))\n",
    "print(a)"
   ]
  },
  {
   "cell_type": "code",
   "execution_count": 227,
   "metadata": {},
   "outputs": [
    {
     "name": "stdout",
     "output_type": "stream",
     "text": [
      "MUHmMaD QaSIM\n",
      "MUHmMaD QaSIM\n"
     ]
    }
   ],
   "source": [
    "a = \"MUHmMaD QaSIM\"\n",
    "print(a.expandtabs())\n",
    "print(a)"
   ]
  },
  {
   "cell_type": "code",
   "execution_count": 228,
   "metadata": {},
   "outputs": [
    {
     "name": "stdout",
     "output_type": "stream",
     "text": [
      "8\n",
      "MUHmMaD QaSIM\n"
     ]
    }
   ],
   "source": [
    "a = \"MUHmMaD QaSIM\"\n",
    "print(a.find(\"QaSIM\"))\n",
    "print(a)"
   ]
  },
  {
   "cell_type": "code",
   "execution_count": 229,
   "metadata": {},
   "outputs": [
    {
     "name": "stdout",
     "output_type": "stream",
     "text": [
      "MUHmMaD QaSIM\n",
      "MUHmMaD QaSIM\n"
     ]
    }
   ],
   "source": [
    "a = \"MUHmMaD QaSIM\"\n",
    "print(a.format())\n",
    "print(a)"
   ]
  },
  {
   "cell_type": "code",
   "execution_count": 230,
   "metadata": {},
   "outputs": [
    {
     "name": "stdout",
     "output_type": "stream",
     "text": [
      "MUHmMaD QaSIM\n",
      "MUHmMaD QaSIM\n"
     ]
    }
   ],
   "source": [
    "a = \"MUHmMaD QaSIM\"\n",
    "print(a.format_map(a))\n",
    "print(a)"
   ]
  },
  {
   "cell_type": "code",
   "execution_count": 231,
   "metadata": {},
   "outputs": [
    {
     "name": "stdout",
     "output_type": "stream",
     "text": [
      "6\n",
      "MUHmMaD QaSIM\n"
     ]
    }
   ],
   "source": [
    "a = \"MUHmMaD QaSIM\"\n",
    "print(a.index(\"D\"))\n",
    "print(a)"
   ]
  },
  {
   "cell_type": "code",
   "execution_count": 232,
   "metadata": {},
   "outputs": [
    {
     "name": "stdout",
     "output_type": "stream",
     "text": [
      "False\n",
      "MUHmMaD QaSIM\n"
     ]
    }
   ],
   "source": [
    "a = \"MUHmMaD QaSIM\"\n",
    "print(a.isalnum())\n",
    "print(a)"
   ]
  },
  {
   "cell_type": "code",
   "execution_count": 233,
   "metadata": {},
   "outputs": [
    {
     "name": "stdout",
     "output_type": "stream",
     "text": [
      "False\n",
      "MUHmMaD QaSIM\n"
     ]
    }
   ],
   "source": [
    "a = \"MUHmMaD QaSIM\"\n",
    "print(a.isalpha())\n",
    "print(a)"
   ]
  },
  {
   "cell_type": "code",
   "execution_count": 234,
   "metadata": {},
   "outputs": [
    {
     "name": "stdout",
     "output_type": "stream",
     "text": [
      "True\n",
      "MUHmMaD QaSIM\n"
     ]
    }
   ],
   "source": [
    "a = \"MUHmMaD QaSIM\"\n",
    "print(a.isascii())\n",
    "print(a)"
   ]
  },
  {
   "cell_type": "code",
   "execution_count": 235,
   "metadata": {},
   "outputs": [
    {
     "name": "stdout",
     "output_type": "stream",
     "text": [
      "False\n",
      "MUHmMaD QaSIM\n"
     ]
    }
   ],
   "source": [
    "a = \"MUHmMaD QaSIM\"\n",
    "print(a.isdecimal())\n",
    "print(a)"
   ]
  },
  {
   "cell_type": "code",
   "execution_count": 236,
   "metadata": {},
   "outputs": [
    {
     "name": "stdout",
     "output_type": "stream",
     "text": [
      "False\n",
      "MUHmMaD QaSIM\n"
     ]
    }
   ],
   "source": [
    "a = \"MUHmMaD QaSIM\"\n",
    "print(a.isdigit())\n",
    "print(a)"
   ]
  },
  {
   "cell_type": "code",
   "execution_count": 237,
   "metadata": {},
   "outputs": [
    {
     "name": "stdout",
     "output_type": "stream",
     "text": [
      "False\n",
      "MUHmMaD QaSIM\n"
     ]
    }
   ],
   "source": [
    "a = \"MUHmMaD QaSIM\"\n",
    "print(a.isidentifier())\n",
    "print(a)"
   ]
  },
  {
   "cell_type": "code",
   "execution_count": 238,
   "metadata": {},
   "outputs": [
    {
     "name": "stdout",
     "output_type": "stream",
     "text": [
      "False\n",
      "MUHmMaD QaSIM\n"
     ]
    }
   ],
   "source": [
    "a = \"MUHmMaD QaSIM\"\n",
    "print(a.islower())\n",
    "print(a)"
   ]
  },
  {
   "cell_type": "code",
   "execution_count": 239,
   "metadata": {},
   "outputs": [
    {
     "name": "stdout",
     "output_type": "stream",
     "text": [
      "False\n",
      "MUHmMaD QaSIM\n"
     ]
    }
   ],
   "source": [
    "a = \"MUHmMaD QaSIM\"\n",
    "print(a.isnumeric())\n",
    "print(a)"
   ]
  },
  {
   "cell_type": "code",
   "execution_count": 240,
   "metadata": {},
   "outputs": [
    {
     "name": "stdout",
     "output_type": "stream",
     "text": [
      "True\n",
      "MUHmMaD QaSIM\n"
     ]
    }
   ],
   "source": [
    "a = \"MUHmMaD QaSIM\"\n",
    "print(a.isprintable())\n",
    "print(a)"
   ]
  },
  {
   "cell_type": "code",
   "execution_count": 241,
   "metadata": {},
   "outputs": [
    {
     "name": "stdout",
     "output_type": "stream",
     "text": [
      "False\n",
      "MUHmMaD QaSIM\n"
     ]
    }
   ],
   "source": [
    "a = \"MUHmMaD QaSIM\"\n",
    "print(a.isspace())\n",
    "print(a)"
   ]
  },
  {
   "cell_type": "code",
   "execution_count": 242,
   "metadata": {},
   "outputs": [
    {
     "name": "stdout",
     "output_type": "stream",
     "text": [
      "False\n",
      "MUHmMaD QaSIM\n"
     ]
    }
   ],
   "source": [
    "a = \"MUHmMaD QaSIM\"\n",
    "print(a.istitle())\n",
    "print(a)"
   ]
  },
  {
   "cell_type": "code",
   "execution_count": 243,
   "metadata": {},
   "outputs": [
    {
     "name": "stdout",
     "output_type": "stream",
     "text": [
      "False\n",
      "MUHmMaD QaSIM\n"
     ]
    }
   ],
   "source": [
    "a = \"MUHmMaD QaSIM\"\n",
    "print(a.isupper())\n",
    "print(a)"
   ]
  },
  {
   "cell_type": "code",
   "execution_count": 244,
   "metadata": {},
   "outputs": [
    {
     "name": "stdout",
     "output_type": "stream",
     "text": [
      "MUHmMaD QaSIM\n",
      "MUHmMaD QaSIM\n"
     ]
    }
   ],
   "source": [
    "a = \"MUHmMaD QaSIM\"\n",
    "print(a.ljust(1))\n",
    "print(a)"
   ]
  },
  {
   "cell_type": "code",
   "execution_count": 245,
   "metadata": {},
   "outputs": [
    {
     "name": "stdout",
     "output_type": "stream",
     "text": [
      "muhmmad qasim\n",
      "MUHmMaD QaSIM\n"
     ]
    }
   ],
   "source": [
    "a = \"MUHmMaD QaSIM\"\n",
    "print(a.lower())\n",
    "print(a)"
   ]
  },
  {
   "cell_type": "code",
   "execution_count": 246,
   "metadata": {},
   "outputs": [
    {
     "name": "stdout",
     "output_type": "stream",
     "text": [
      "        Muhammad            Qasim     \n"
     ]
    }
   ],
   "source": [
    "a = \"        Muhammad            Qasim     \"\n",
    "print(a)"
   ]
  },
  {
   "cell_type": "code",
   "execution_count": 247,
   "metadata": {},
   "outputs": [
    {
     "name": "stdout",
     "output_type": "stream",
     "text": [
      "38\n",
      "Muhammad            Qasim     \n",
      "30\n",
      "        Muhammad            Qasim     \n"
     ]
    }
   ],
   "source": [
    "a = \"        Muhammad            Qasim     \"\n",
    "print(len(a))\n",
    "print(a.lstrip())\n",
    "print(len(a.lstrip()))\n",
    "print(a)"
   ]
  },
  {
   "cell_type": "code",
   "execution_count": 248,
   "metadata": {},
   "outputs": [
    {
     "name": "stdout",
     "output_type": "stream",
     "text": [
      "38\n",
      "        Muhammad            Qasim\n",
      "33\n",
      "        Muhammad            Qasim     \n"
     ]
    }
   ],
   "source": [
    "a = \"        Muhammad            Qasim     \"\n",
    "print(len(a))\n",
    "print(a.rstrip())\n",
    "print(len(a.rstrip()))\n",
    "print(a)"
   ]
  },
  {
   "cell_type": "code",
   "execution_count": 249,
   "metadata": {},
   "outputs": [
    {
     "name": "stdout",
     "output_type": "stream",
     "text": [
      "38\n",
      "Muhammad            Qasim\n",
      "25\n",
      "        Muhammad            Qasim     \n"
     ]
    }
   ],
   "source": [
    "a = \"        Muhammad            Qasim     \"\n",
    "print(len(a))\n",
    "print(a.strip())\n",
    "print(len(a.strip()))\n",
    "print(a)"
   ]
  },
  {
   "cell_type": "code",
   "execution_count": 250,
   "metadata": {},
   "outputs": [
    {
     "data": {
      "text/plain": [
       "['Muhammad', 'Qasim']"
      ]
     },
     "execution_count": 250,
     "metadata": {},
     "output_type": "execute_result"
    }
   ],
   "source": [
    "a = \"        Muhammad            Qasim     \"\n",
    "b = a.split()\n",
    "b"
   ]
  },
  {
   "cell_type": "code",
   "execution_count": 251,
   "metadata": {},
   "outputs": [
    {
     "data": {
      "text/plain": [
       "'Muhammad Qasim'"
      ]
     },
     "execution_count": 251,
     "metadata": {},
     "output_type": "execute_result"
    }
   ],
   "source": [
    "\" \".join(b)"
   ]
  },
  {
   "cell_type": "code",
   "execution_count": 252,
   "metadata": {},
   "outputs": [
    {
     "data": {
      "text/plain": [
       "'Muhammad=====Qasim'"
      ]
     },
     "execution_count": 252,
     "metadata": {},
     "output_type": "execute_result"
    }
   ],
   "source": [
    "\"=====\".join(b)"
   ]
  },
  {
   "cell_type": "code",
   "execution_count": 253,
   "metadata": {},
   "outputs": [
    {
     "name": "stdout",
     "output_type": "stream",
     "text": [
      "t2i1 i1 1tring 6x3mp76....wow!!!\n"
     ]
    }
   ],
   "source": [
    "intab = \"shakeel\"\n",
    "outtab = \"1234567\"\n",
    "trantab = str.maketrans(intab, outtab)\n",
    "\n",
    "str = \"this is string example....wow!!!\"\n",
    "print (str.translate(trantab))"
   ]
  },
  {
   "cell_type": "code",
   "execution_count": 254,
   "metadata": {},
   "outputs": [
    {
     "name": "stdout",
     "output_type": "stream",
     "text": [
      "('MUHmMaD', ' ', 'QaSIM')\n",
      "MUHmMaD QaSIM\n"
     ]
    }
   ],
   "source": [
    "a = \"MUHmMaD QaSIM\"\n",
    "print(a.partition(\" \"))\n",
    "print(a)"
   ]
  },
  {
   "cell_type": "code",
   "execution_count": 255,
   "metadata": {},
   "outputs": [
    {
     "name": "stdout",
     "output_type": "stream",
     "text": [
      "MUHmMbD QbSIM\n",
      "MUHmMaD QaSIM\n"
     ]
    }
   ],
   "source": [
    "a = \"MUHmMaD QaSIM\"\n",
    "print(a.replace(\"a\",\"b\"))\n",
    "print(a)"
   ]
  },
  {
   "cell_type": "code",
   "execution_count": 256,
   "metadata": {},
   "outputs": [
    {
     "name": "stdout",
     "output_type": "stream",
     "text": [
      "8\n",
      "MUHmMaD QaSIM\n"
     ]
    }
   ],
   "source": [
    "a = \"MUHmMaD QaSIM\"\n",
    "print(a.rfind(\"Q\"))\n",
    "print(a)"
   ]
  },
  {
   "cell_type": "code",
   "execution_count": 257,
   "metadata": {},
   "outputs": [
    {
     "name": "stdout",
     "output_type": "stream",
     "text": [
      "8\n",
      "MUHmMaD QaSIM\n"
     ]
    }
   ],
   "source": [
    "a = \"MUHmMaD QaSIM\"\n",
    "print(a.rindex(\"Q\"))\n",
    "print(a)"
   ]
  },
  {
   "cell_type": "code",
   "execution_count": 258,
   "metadata": {},
   "outputs": [
    {
     "name": "stdout",
     "output_type": "stream",
     "text": [
      "MUHmMaD QaSIM\n",
      "MUHmMaD QaSIM\n"
     ]
    }
   ],
   "source": [
    "a = \"MUHmMaD QaSIM\"\n",
    "print(a.rjust(4))\n",
    "print(a)"
   ]
  },
  {
   "cell_type": "code",
   "execution_count": null,
   "metadata": {},
   "outputs": [],
   "source": []
  },
  {
   "cell_type": "code",
   "execution_count": 259,
   "metadata": {},
   "outputs": [
    {
     "data": {
      "text/plain": [
       "7"
      ]
     },
     "execution_count": 259,
     "metadata": {},
     "output_type": "execute_result"
    }
   ],
   "source": [
    "a = \"we are pakistan we love our country!\"\n",
    "a.find(\"pakistan\")"
   ]
  },
  {
   "cell_type": "code",
   "execution_count": 260,
   "metadata": {},
   "outputs": [
    {
     "data": {
      "text/plain": [
       "7"
      ]
     },
     "execution_count": 260,
     "metadata": {},
     "output_type": "execute_result"
    }
   ],
   "source": [
    "a = \"we are pakistan we love our country!\"\n",
    "a.index(\"pakistan\")"
   ]
  },
  {
   "cell_type": "code",
   "execution_count": 261,
   "metadata": {},
   "outputs": [
    {
     "name": "stdout",
     "output_type": "stream",
     "text": [
      "Search:a\n",
      "a\n"
     ]
    },
    {
     "data": {
      "text/plain": [
       "'are pakistan we love our country!'"
      ]
     },
     "execution_count": 261,
     "metadata": {},
     "output_type": "execute_result"
    }
   ],
   "source": [
    "b = input(\"Search:\")\n",
    "print(a[a.index(b): a.index(b)+len(b)])\n",
    "a[a.index(b): ]"
   ]
  },
  {
   "cell_type": "code",
   "execution_count": 262,
   "metadata": {},
   "outputs": [
    {
     "name": "stdout",
     "output_type": "stream",
     "text": [
      "\n",
      "PIAIC ISLAMABAD\n",
      "Bahria University \n",
      "Name: Muhammad Qasim\n",
      "Father's Name: Muhammad Asalam\n",
      "\n"
     ]
    }
   ],
   "source": [
    "card = \"\"\"\n",
    "PIAIC ISLAMABAD\n",
    "Bahria University \n",
    "Name: Muhammad Qasim\n",
    "Father's Name: Muhammad Asalam\n",
    "\"\"\"\n",
    "\n",
    "print(card)"
   ]
  },
  {
   "cell_type": "code",
   "execution_count": 263,
   "metadata": {},
   "outputs": [
    {
     "name": "stdout",
     "output_type": "stream",
     "text": [
      "\n",
      "PIAIC ISLAMABAD\n",
      "Bahria University \n",
      "Name: \n",
      "Father's Name: \n",
      "\n"
     ]
    }
   ],
   "source": [
    "student_name = \"Muhammad Qasim\"\n",
    "f_name = \"Muhammad Asalam\"\n",
    "\n",
    "card = \"\"\"\n",
    "PIAIC ISLAMABAD\n",
    "Bahria University \n",
    "Name: \n",
    "Father's Name: \n",
    "\"\"\"\n",
    "\n",
    "print(card)"
   ]
  },
  {
   "cell_type": "code",
   "execution_count": 264,
   "metadata": {},
   "outputs": [
    {
     "name": "stdout",
     "output_type": "stream",
     "text": [
      "\n",
      "PIAIC ISLAMABAD\n",
      "Bahria University \n",
      "Name: Muhammad Qasim\n",
      "Father's Name: Muhammad Asalam\n",
      "Fee : 1000\n",
      "\n"
     ]
    }
   ],
   "source": [
    "student_name = \"Muhammad Qasim\"\n",
    "f_name = \"Muhammad Asalam\"\n",
    "fee = 1000\n",
    "\n",
    "card = \"\"\"\n",
    "PIAIC ISLAMABAD\n",
    "Bahria University \n",
    "Name: %s\n",
    "Father's Name: %s\n",
    "Fee : %d\n",
    "\"\"\"\n",
    "\n",
    "print(card%(student_name,f_name, fee))"
   ]
  },
  {
   "cell_type": "code",
   "execution_count": 265,
   "metadata": {},
   "outputs": [
    {
     "name": "stdout",
     "output_type": "stream",
     "text": [
      "Name:Shakeel ur Rehman\n",
      "Father's nameTariq Mahmood\n",
      "Fee3000\n",
      "\n",
      "PIAIC ISLAMABAD\n",
      "Bahria University \n",
      "Name: Shakeel ur Rehman\n",
      "Father's Name: Tariq Mahmood\n",
      "Fee : 3000\n",
      "\n"
     ]
    }
   ],
   "source": [
    "student_name = input(\"Name:\")\n",
    "f_name = input(\"Father's name\")\n",
    "fee = int(input(\"Fee\"))\n",
    "\n",
    "card = \"\"\"\n",
    "PIAIC ISLAMABAD\n",
    "Bahria University \n",
    "Name: %s\n",
    "Father's Name: %s\n",
    "Fee : %d\n",
    "\"\"\"\n",
    "\n",
    "print(card%(student_name,f_name, fee))"
   ]
  },
  {
   "cell_type": "code",
   "execution_count": 266,
   "metadata": {},
   "outputs": [
    {
     "name": "stdout",
     "output_type": "stream",
     "text": [
      "\n",
      "Bahria University Islamabad\n",
      "Student Name: Muhammad Qasim\n",
      "Father's Name: Muhammad Aslam\n",
      "Fee: 5000\n",
      "\n"
     ]
    }
   ],
   "source": [
    "name = \"Muhammad Qasim\"\n",
    "fname = \"Muhammad Aslam\"\n",
    "fee = 5000\n",
    "\n",
    "a=f\"\"\"\n",
    "Bahria University Islamabad\n",
    "Student Name: {name}\n",
    "Father's Name: {fname}\n",
    "Fee: {fee}\n",
    "\"\"\"\n",
    "print(a)"
   ]
  },
  {
   "cell_type": "code",
   "execution_count": 267,
   "metadata": {},
   "outputs": [
    {
     "name": "stdout",
     "output_type": "stream",
     "text": [
      "\n",
      "Bahria University Islamabad\n",
      "Student Name: Muhammad Qasim\n",
      "Father's Name: Muhammad Aslam\n",
      "Fee: 5000\n",
      "\n"
     ]
    }
   ],
   "source": [
    "name = \"Muhammad Qasim\"\n",
    "fname = \"Muhammad Aslam\"\n",
    "fee = 5000\n",
    "\n",
    "a=\"\"\"\n",
    "Bahria University Islamabad\n",
    "Student Name: {}\n",
    "Father's Name: {}\n",
    "Fee: {}\n",
    "\"\"\"\n",
    "print(a.format(name, fname,fee))"
   ]
  },
  {
   "cell_type": "code",
   "execution_count": 268,
   "metadata": {},
   "outputs": [
    {
     "name": "stdout",
     "output_type": "stream",
     "text": [
      "\n",
      "Bahria University Islamabad\n",
      "Student Name: Muhammad Aslam\n",
      "Father's Name: Muhammad Qasim\n",
      "Fee: 5000\n",
      "\n"
     ]
    }
   ],
   "source": [
    "name = \"Muhammad Qasim\"\n",
    "fname = \"Muhammad Aslam\"\n",
    "fee = 5000\n",
    "\n",
    "a=\"\"\"\n",
    "Bahria University Islamabad\n",
    "Student Name: {1}\n",
    "Father's Name: {0}\n",
    "Fee: {2}\n",
    "\"\"\"\n",
    "print(a.format(name, fname,fee))"
   ]
  },
  {
   "cell_type": "code",
   "execution_count": 269,
   "metadata": {},
   "outputs": [
    {
     "name": "stdout",
     "output_type": "stream",
     "text": [
      "\n",
      "Bahria University Islamabad\n",
      "Student Name: Muhammad Qasim\n",
      "Father's Name: Muhammad Aslam\n",
      "Fee: 5000\n",
      "\n"
     ]
    }
   ],
   "source": [
    "name = \"Muhammad Qasim\"\n",
    "fname = \"Muhammad Aslam\"\n",
    "fee = 5000\n",
    "\n",
    "a=\"\"\"\n",
    "Bahria University Islamabad\n",
    "Student Name: {sn}\n",
    "Father's Name: {fn}\n",
    "Fee: {f}\n",
    "\"\"\"\n",
    "print(a.format(f=fee, fn=fname, sn=name))"
   ]
  },
  {
   "cell_type": "code",
   "execution_count": 270,
   "metadata": {},
   "outputs": [
    {
     "data": {
      "text/plain": [
       "'11'"
      ]
     },
     "execution_count": 270,
     "metadata": {},
     "output_type": "execute_result"
    }
   ],
   "source": [
    "\"1\" + '1'"
   ]
  },
  {
   "cell_type": "code",
   "execution_count": 271,
   "metadata": {},
   "outputs": [
    {
     "data": {
      "text/plain": [
       "2"
      ]
     },
     "execution_count": 271,
     "metadata": {},
     "output_type": "execute_result"
    }
   ],
   "source": [
    "int(\"1\") + int('1')"
   ]
  },
  {
   "cell_type": "code",
   "execution_count": 273,
   "metadata": {},
   "outputs": [
    {
     "data": {
      "text/plain": [
       "'88'"
      ]
     },
     "execution_count": 273,
     "metadata": {},
     "output_type": "execute_result"
    }
   ],
   "source": [
    "\"8\" * 2"
   ]
  },
  {
   "cell_type": "code",
   "execution_count": 274,
   "metadata": {},
   "outputs": [
    {
     "data": {
      "text/plain": [
       "4"
      ]
     },
     "execution_count": 274,
     "metadata": {},
     "output_type": "execute_result"
    }
   ],
   "source": [
    "2*2"
   ]
  },
  {
   "cell_type": "code",
   "execution_count": 275,
   "metadata": {},
   "outputs": [
    {
     "data": {
      "text/plain": [
       "'PakPak'"
      ]
     },
     "execution_count": 275,
     "metadata": {},
     "output_type": "execute_result"
    }
   ],
   "source": [
    "\"Pak\" * 2"
   ]
  },
  {
   "cell_type": "code",
   "execution_count": 277,
   "metadata": {},
   "outputs": [
    {
     "data": {
      "text/plain": [
       "56.0"
      ]
     },
     "execution_count": 277,
     "metadata": {},
     "output_type": "execute_result"
    }
   ],
   "source": [
    "8 * 7 + 9 / 2 ** 20 // 2 "
   ]
  },
  {
   "cell_type": "code",
   "execution_count": 278,
   "metadata": {},
   "outputs": [
    {
     "data": {
      "text/plain": [
       "56.0"
      ]
     },
     "execution_count": 278,
     "metadata": {},
     "output_type": "execute_result"
    }
   ],
   "source": [
    "8 * \\\n",
    "7 + \\\n",
    "9 / \\\n",
    "2 ** \\\n",
    "20 // \\\n",
    "2 "
   ]
  },
  {
   "cell_type": "code",
   "execution_count": 279,
   "metadata": {},
   "outputs": [
    {
     "name": "stdout",
     "output_type": "stream",
     "text": [
      "Qasim Asif Hamza\n",
      "['Qasim', 'Asif', 'Hamza']\n",
      "Qasim Asif Hamza\n"
     ]
    }
   ],
   "source": [
    "names = [\"Qasim\",\"Asif\",\"Hamza\"]\n",
    "\n",
    "\n",
    "print(names[0], names[1], names[2])\n",
    "print(names)\n",
    "print(*names)"
   ]
  },
  {
   "cell_type": "code",
   "execution_count": 280,
   "metadata": {},
   "outputs": [
    {
     "name": "stdout",
     "output_type": "stream",
     "text": [
      "Qasim Aslam 2000\n"
     ]
    }
   ],
   "source": [
    "name, fname, fee = \"Qasim\", \"Aslam\", 2000\n",
    "print(name, fname,fee)"
   ]
  },
  {
   "cell_type": "code",
   "execution_count": 281,
   "metadata": {},
   "outputs": [
    {
     "name": "stdout",
     "output_type": "stream",
     "text": [
      "('Qasim',) Aslam 2000\n"
     ]
    }
   ],
   "source": [
    "a=[\"Qasim\", \"Aslam\", 2000]\n",
    "name = a[0],\n",
    "fname = a[1]\n",
    "fee = a[2]\n",
    "print(name, fname,fee)"
   ]
  },
  {
   "cell_type": "code",
   "execution_count": 282,
   "metadata": {},
   "outputs": [
    {
     "name": "stdout",
     "output_type": "stream",
     "text": [
      "Qasim Aslam 2000\n"
     ]
    }
   ],
   "source": [
    "a=[\"Qasim\", \"Aslam\", 2000]\n",
    "name, fname, fee = a\n",
    "print(name, fname,fee)"
   ]
  },
  {
   "cell_type": "markdown",
   "metadata": {},
   "source": [
    "# Assignment\n",
    "- "
   ]
  }
 ],
 "metadata": {
  "kernelspec": {
   "display_name": "Python 3",
   "language": "python",
   "name": "python3"
  },
  "language_info": {
   "codemirror_mode": {
    "name": "ipython",
    "version": 3
   },
   "file_extension": ".py",
   "mimetype": "text/x-python",
   "name": "python",
   "nbconvert_exporter": "python",
   "pygments_lexer": "ipython3",
   "version": "3.7.3"
  }
 },
 "nbformat": 4,
 "nbformat_minor": 2
}
